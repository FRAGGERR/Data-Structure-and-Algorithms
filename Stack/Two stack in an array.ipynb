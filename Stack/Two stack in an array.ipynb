{
 "cells": [
  {
   "cell_type": "code",
   "execution_count": 6,
   "metadata": {},
   "outputs": [
    {
     "name": "stdout",
     "output_type": "stream",
     "text": [
      "15\n",
      "stack is underflow\n",
      "None\n"
     ]
    }
   ],
   "source": [
    "class towstack:\n",
    "    def __init__(self, n):\n",
    "        self.cap = n\n",
    "        self.arr = [0] * n\n",
    "        self.top1 = -1\n",
    "        self.top2 = n\n",
    "\n",
    "    def push1(self, x):\n",
    "        if self.top1 < self.top2 - 1:\n",
    "            self.top1 += 1\n",
    "            self.arr[self.top1] = x\n",
    "        else:\n",
    "            print(\"Stack Overflow\")\n",
    "\n",
    "    def push2(self,x):\n",
    "        if self.top2 > 0:\n",
    "            self.top2 =  self.top2 - 1\n",
    "            self.arr[self.top2] = x\n",
    "        else:\n",
    "            print(\"Stack Overflow\")\n",
    "        \n",
    "    def pop1 (self):\n",
    "        if self.top1 >= 0:\n",
    "            x = self.arr[self.top1] \n",
    "            self.top1 -= 1\n",
    "            return x\n",
    "        else:\n",
    "            print(\"Stack is underflow\")\n",
    "            exit(1)\n",
    "            \n",
    "    def pop2 (self):\n",
    "        if self.top2 >= self.cap:\n",
    "            x = self.arr[self.top2]\n",
    "            self.top2 -= 1\n",
    "            return x\n",
    "        else:\n",
    "            print(\"stack is underflow\")\n",
    "            exit(1)\n",
    "\n",
    "if __name__ == \"__main__\":\n",
    "    stack = towstack(5)\n",
    "\n",
    "    stack.push1(5)\n",
    "    stack.push1(10)\n",
    "    stack.push1(15)\n",
    "    stack.push2(20)\n",
    "    stack.push2(25)\n",
    "    print(stack.pop1())\n",
    "    print(stack.pop2())"
   ]
  },
  {
   "cell_type": "code",
   "execution_count": null,
   "metadata": {},
   "outputs": [],
   "source": []
  }
 ],
 "metadata": {
  "kernelspec": {
   "display_name": "Python 3",
   "language": "python",
   "name": "python3"
  },
  "language_info": {
   "codemirror_mode": {
    "name": "ipython",
    "version": 3
   },
   "file_extension": ".py",
   "mimetype": "text/x-python",
   "name": "python",
   "nbconvert_exporter": "python",
   "pygments_lexer": "ipython3",
   "version": "3.12.4"
  }
 },
 "nbformat": 4,
 "nbformat_minor": 2
}
