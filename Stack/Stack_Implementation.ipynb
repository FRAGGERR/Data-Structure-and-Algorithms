{
 "cells": [
  {
   "cell_type": "code",
   "execution_count": 12,
   "id": "936f79dc",
   "metadata": {},
   "outputs": [
    {
     "name": "stdout",
     "output_type": "stream",
     "text": [
      "Error: Cannot pop from an empty stack\n",
      "None\n",
      "Error: Cannot pop from an empty stack\n",
      "None\n",
      "True\n",
      "0\n",
      "[]\n",
      "Error: Cannot pop from an empty stack\n",
      "Error: Cannot pop from an empty stack\n",
      "Error: Cannot pop from an empty stack\n",
      "Error: Cannot pop from an empty stack\n",
      "None\n"
     ]
    }
   ],
   "source": [
    "class mystack:\n",
    "    def __init__(self):\n",
    "        self.s = []\n",
    "    \n",
    "    def push(self, x):\n",
    "        self.s.append(x)\n",
    "    \n",
    "    def pop(self):\n",
    "        if self.isnull():\n",
    "            print(\"Error: Cannot pop from an empty stack\")\n",
    "            return None\n",
    "        return self.s.pop()\n",
    "\n",
    "    def size(self):\n",
    "        return len(self.s)\n",
    "\n",
    "    def isnull(self):\n",
    "        return len(self.s) == 0\n",
    "    \n",
    "    def peek(self):\n",
    "        if self.isnull():\n",
    "            print(\"Error: Cannot pop from an empty stack\")\n",
    "            return None\n",
    "        return self.s[-1]\n",
    "\n",
    "    def print_stack(self):\n",
    "        print(self.s)\n",
    "        \n",
    "if __name__ == '__main__':\n",
    "    stack = mystack()\n",
    "    print(stack.pop())        # Expected Output: 80\n",
    "    print(stack.peek())       # Expected Output: 89\n",
    "    print(stack.isnull())   # Expected Output: False\n",
    "    print(stack.size())       # Expected Output: 3\n",
    "    stack.print_stack()       # Expected Output: [5, 7, 89]\n",
    "\n",
    "    # Attempt to pop all elements and one extra to trigger the error\n",
    "    stack.pop()               # Expected Output: 89\n",
    "    stack.pop()               # Expected Output: 7\n",
    "    stack.pop()               # Expected Output: 5\n",
    "    print(stack.pop())        # Expected Output: Error message and None"
   ]
  },
  {
   "cell_type": "markdown",
   "id": "99295c22",
   "metadata": {},
   "source": [
    "# Stack Implementation using LinkedList"
   ]
  },
  {
   "cell_type": "code",
   "execution_count": 17,
   "id": "323b602b",
   "metadata": {},
   "outputs": [
    {
     "name": "stdout",
     "output_type": "stream",
     "text": [
      "500\n",
      "50\n",
      "False\n",
      "2\n"
     ]
    }
   ],
   "source": [
    "class Node:\n",
    "    def __init__(self, data):\n",
    "        self.data = data #create a empty node\n",
    "        self.next = None #assigning the none data to the next of the node\n",
    "class Mystack:\n",
    "    def __init__(self):\n",
    "        self.head = None # head = none i.e., only one node is exit\n",
    "        self.sz = 0\n",
    "    \n",
    "    def push(self, x):\n",
    "        temp = Node(x) # calling the class\n",
    "        temp.next = self.head # New Next --> Past head\n",
    "        self.head = temp # Updated head --> temp\n",
    "        self.sz += 1\n",
    "\n",
    "    def pop(self):\n",
    "        if self.head is None:\n",
    "            return float('inf')\n",
    "        res = self.head.data # Putting the head data into new variable \n",
    "        self.head = self.head.next # Current head --> Upcoming node head\n",
    "        self.sz -= 1\n",
    "        return res\n",
    "    \n",
    "    def peek(self):\n",
    "        if self.head is None:\n",
    "            return float('inf')\n",
    "        return self.head.data # Returning head data for the peek demand\n",
    "    \n",
    "    def size(self):\n",
    "        return self.sz\n",
    "    \n",
    "    def isNull(self):\n",
    "        return self.sz is None\n",
    "\n",
    "\n",
    "if __name__ == '__main__':\n",
    "    stack = Mystack() \n",
    "\n",
    "    stack.push(5)\n",
    "    stack.push(50)\n",
    "    stack.push(500)\n",
    "    print(stack.pop())\n",
    "    print(stack.peek())\n",
    "    print(stack.isNull())\n",
    "    print(stack.size())\n"
   ]
  },
  {
   "cell_type": "markdown",
   "id": "f443fd00",
   "metadata": {},
   "source": [
    "# Stack using Collection Frame work in Python"
   ]
  },
  {
   "cell_type": "code",
   "execution_count": 15,
   "id": "a7af99d3",
   "metadata": {},
   "outputs": [
    {
     "name": "stdout",
     "output_type": "stream",
     "text": [
      "peek into stack :  500\n",
      "Poped element from stack 500\n",
      "Lenght of the Stack 2\n",
      "Stack is NULL :  False\n",
      "Stack:  [5, 50]\n",
      "Stack (bottom to top):\n",
      "5\n",
      "50\n",
      "Stack (top to bottom):\n",
      "50\n",
      "5\n"
     ]
    }
   ],
   "source": [
    "from collections import deque\n",
    "\n",
    "stack = deque()\n",
    "\n",
    "#Pushing elements into stack\n",
    "stack.append(5)\n",
    "stack.append(50)\n",
    "stack.append(500)\n",
    "\n",
    "#Peek into stack\n",
    "print(\"peek into stack : \", stack[-1])\n",
    "\n",
    "#Pop from the stack\n",
    "print(\"Poped element from stack\",stack.pop())\n",
    "\n",
    "#size of the stack\n",
    "print(\"Lenght of the Stack\", len(stack))\n",
    "\n",
    "#Stack is Null or Not?\n",
    "print(\"Stack is NULL : \",len(stack) == 0)\n",
    "\n",
    "#printing the Stack using List\n",
    "print(\"Stack: \", list(stack))\n",
    "\n",
    "#printing the stack in the specific formate (bottom to top)\n",
    "print(\"Stack (bottom to top):\")\n",
    "for element in stack:\n",
    "    print(element)\n",
    "\n",
    "#printing the stack in the specific formate (top to bottom)\n",
    "print(\"Stack (top to bottom):\")\n",
    "for element in reversed(stack):\n",
    "    print(element)"
   ]
  },
  {
   "cell_type": "markdown",
   "id": "142b6f17",
   "metadata": {},
   "source": [
    "# Balanced Parentheses"
   ]
  },
  {
   "cell_type": "markdown",
   "id": "9586b7f1",
   "metadata": {},
   "source": [
    "### Below one is preferred one "
   ]
  },
  {
   "cell_type": "code",
   "execution_count": 18,
   "id": "9fa3bcad",
   "metadata": {},
   "outputs": [
    {
     "name": "stdout",
     "output_type": "stream",
     "text": [
      "String is Not Balanced\n"
     ]
    }
   ],
   "source": [
    "def is_balanced(s):\n",
    "    stack = []\n",
    "    for c in s:\n",
    "        if c in '({[':\n",
    "            stack.append(c)\n",
    "        else:\n",
    "            if not stack:\n",
    "                return False\n",
    "            if c == ')' and stack[-1] != '(':\n",
    "                return False\n",
    "            if c == '}' and stack[-1] != '{':\n",
    "                return False\n",
    "            if c == ']' and stack[-1] != '[':\n",
    "                return False\n",
    "            stack.pop()\n",
    "    return not stack\n",
    "\n",
    "if __name__ == \"__main__\":\n",
    "    s = input(\"Enter the string of the Parentheses:\")  \n",
    "\n",
    "    if is_balanced(s):\n",
    "        print(\"String is Balanced\")\n",
    "    else:\n",
    "        print(\"String is Not Balanced\")\n"
   ]
  },
  {
   "cell_type": "code",
   "execution_count": 22,
   "id": "c32ca584",
   "metadata": {},
   "outputs": [
    {
     "name": "stdout",
     "output_type": "stream",
     "text": [
      "Balanced\n"
     ]
    }
   ],
   "source": [
    "def isnt_balanced(s):\n",
    "    stack = []\n",
    "\n",
    "    for c in s:\n",
    "        if c in '({[':\n",
    "            stack.append(c)\n",
    "        else:\n",
    "            if not stack:\n",
    "                return False\n",
    "            if c == '(' and stack[+1] == ')':\n",
    "                stack.pop()\n",
    "            if c == '{' and stack[+1] == '}':\n",
    "                stack.pop()\n",
    "            if c == '[' and stack[+1] == ']':    \n",
    "                stack.pop()\n",
    "                return False\n",
    "            \n",
    "    return not stack\n",
    "\n",
    "if __name__ == \"__main__\":\n",
    "    s = input (\"Enter a string with parentheses: \")\n",
    "    if isnt_balanced(s):\n",
    "        print(\"NOT Balanced\")\n",
    "    else:\n",
    "        print(\"Balanced\")"
   ]
  }
 ],
 "metadata": {
  "kernelspec": {
   "display_name": "Python 3 (ipykernel)",
   "language": "python",
   "name": "python3"
  },
  "language_info": {
   "codemirror_mode": {
    "name": "ipython",
    "version": 3
   },
   "file_extension": ".py",
   "mimetype": "text/x-python",
   "name": "python",
   "nbconvert_exporter": "python",
   "pygments_lexer": "ipython3",
   "version": "3.12.4"
  }
 },
 "nbformat": 4,
 "nbformat_minor": 5
}
