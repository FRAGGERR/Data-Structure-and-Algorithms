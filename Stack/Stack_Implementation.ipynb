{
 "cells": [
  {
   "cell_type": "code",
   "execution_count": 12,
   "id": "936f79dc",
   "metadata": {},
   "outputs": [
    {
     "name": "stdout",
     "output_type": "stream",
     "text": [
      "Error: Cannot pop from an empty stack\n",
      "None\n",
      "Error: Cannot pop from an empty stack\n",
      "None\n",
      "True\n",
      "0\n",
      "[]\n",
      "Error: Cannot pop from an empty stack\n",
      "Error: Cannot pop from an empty stack\n",
      "Error: Cannot pop from an empty stack\n",
      "Error: Cannot pop from an empty stack\n",
      "None\n"
     ]
    }
   ],
   "source": [
    "class mystack:\n",
    "    def __init__(self):\n",
    "        self.s = []\n",
    "    \n",
    "    def push(self, x):\n",
    "        self.s.append(x)\n",
    "    \n",
    "    def pop(self):\n",
    "        if self.isnull():\n",
    "            print(\"Error: Cannot pop from an empty stack\")\n",
    "            return None\n",
    "        return self.s.pop()\n",
    "\n",
    "    def size(self):\n",
    "        return len(self.s)\n",
    "\n",
    "    def isnull(self):\n",
    "        return len(self.s) == 0\n",
    "    \n",
    "    def peek(self):\n",
    "        if self.isnull():\n",
    "            print(\"Error: Cannot pop from an empty stack\")\n",
    "            return None\n",
    "        return self.s[-1]\n",
    "\n",
    "    def print_stack(self):\n",
    "        print(self.s)\n",
    "        \n",
    "if __name__ == '__main__':\n",
    "    stack = mystack()\n",
    "    print(stack.pop())        # Expected Output: 80\n",
    "    print(stack.peek())       # Expected Output: 89\n",
    "    print(stack.isnull())   # Expected Output: False\n",
    "    print(stack.size())       # Expected Output: 3\n",
    "    stack.print_stack()       # Expected Output: [5, 7, 89]\n",
    "\n",
    "    # Attempt to pop all elements and one extra to trigger the error\n",
    "    stack.pop()               # Expected Output: 89\n",
    "    stack.pop()               # Expected Output: 7\n",
    "    stack.pop()               # Expected Output: 5\n",
    "    print(stack.pop())        # Expected Output: Error message and None"
   ]
  },
  {
   "cell_type": "markdown",
   "id": "99295c22",
   "metadata": {},
   "source": [
    "# Stack Implementation using LinkedList"
   ]
  },
  {
   "cell_type": "code",
   "execution_count": 17,
   "id": "323b602b",
   "metadata": {},
   "outputs": [
    {
     "name": "stdout",
     "output_type": "stream",
     "text": [
      "500\n",
      "50\n",
      "False\n",
      "2\n"
     ]
    }
   ],
   "source": [
    "class Node:\n",
    "    def __init__(self, data):\n",
    "        self.data = data #create a empty node\n",
    "        self.next = None #assigning the none data to the next of the node\n",
    "class Mystack:\n",
    "    def __init__(self):\n",
    "        self.head = None # head = none i.e., only one node is exit\n",
    "        self.sz = 0\n",
    "    \n",
    "    def push(self, x):\n",
    "        temp = Node(x) # calling the class\n",
    "        temp.next = self.head # New Next --> Past head\n",
    "        self.head = temp # Updated head --> temp\n",
    "        self.sz += 1\n",
    "\n",
    "    def pop(self):\n",
    "        if self.head is None:\n",
    "            return float('inf')\n",
    "        res = self.head.data # Putting the head data into new variable \n",
    "        self.head = self.head.next # Current head --> Upcoming node head\n",
    "        self.sz -= 1\n",
    "        return res\n",
    "    \n",
    "    def peek(self):\n",
    "        if self.head is None:\n",
    "            return float('inf')\n",
    "        return self.head.data # Returning head data for the peek demand\n",
    "    \n",
    "    def size(self):\n",
    "        return self.sz\n",
    "    \n",
    "    def isNull(self):\n",
    "        return self.sz is None\n",
    "\n",
    "\n",
    "if __name__ == '__main__':\n",
    "    stack = Mystack() \n",
    "\n",
    "    stack.push(5)\n",
    "    stack.push(50)\n",
    "    stack.push(500)\n",
    "    print(stack.pop())\n",
    "    print(stack.peek())\n",
    "    print(stack.isNull())\n",
    "    print(stack.size())\n"
   ]
  },
  {
   "cell_type": "code",
   "execution_count": null,
   "id": "f443fd00",
   "metadata": {},
   "outputs": [],
   "source": []
  }
 ],
 "metadata": {
  "kernelspec": {
   "display_name": "Python 3 (ipykernel)",
   "language": "python",
   "name": "python3"
  },
  "language_info": {
   "codemirror_mode": {
    "name": "ipython",
    "version": 3
   },
   "file_extension": ".py",
   "mimetype": "text/x-python",
   "name": "python",
   "nbconvert_exporter": "python",
   "pygments_lexer": "ipython3",
   "version": "3.12.4"
  }
 },
 "nbformat": 4,
 "nbformat_minor": 5
}
